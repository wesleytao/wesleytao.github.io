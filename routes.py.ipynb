{
 "cells": [
  {
   "cell_type": "code",
   "execution_count": null,
   "metadata": {},
   "outputs": [
    {
     "name": "stderr",
     "output_type": "stream",
     "text": [
      " * Running on http://127.0.0.1:5000/ (Press CTRL+C to quit)\n",
      "127.0.0.1 - - [22/Apr/2018 23:47:42] \"GET / HTTP/1.1\" 200 -\n",
      "[2018-04-22 23:47:46,191] ERROR in app: Exception on / [POST]\n",
      "Traceback (most recent call last):\n",
      "  File \"C:\\Users\\xinro\\Anaconda3\\lib\\site-packages\\flask\\app.py\", line 1982, in wsgi_app\n",
      "    response = self.full_dispatch_request()\n",
      "  File \"C:\\Users\\xinro\\Anaconda3\\lib\\site-packages\\flask\\app.py\", line 1614, in full_dispatch_request\n",
      "    rv = self.handle_user_exception(e)\n",
      "  File \"C:\\Users\\xinro\\Anaconda3\\lib\\site-packages\\flask\\app.py\", line 1517, in handle_user_exception\n",
      "    reraise(exc_type, exc_value, tb)\n",
      "  File \"C:\\Users\\xinro\\Anaconda3\\lib\\site-packages\\flask\\_compat.py\", line 33, in reraise\n",
      "    raise value\n",
      "  File \"C:\\Users\\xinro\\Anaconda3\\lib\\site-packages\\flask\\app.py\", line 1612, in full_dispatch_request\n",
      "    rv = self.dispatch_request()\n",
      "  File \"C:\\Users\\xinro\\Anaconda3\\lib\\site-packages\\flask\\app.py\", line 1598, in dispatch_request\n",
      "    return self.view_functions[rule.endpoint](**req.view_args)\n",
      "  File \"<ipython-input-26-898843bfe3a8>\", line 38, in make_prediction\n",
      "    return redirect(url_for(\"http://127.0.0.1:5000/#model1\",plot_url=plot_url))\n",
      "  File \"C:\\Users\\xinro\\Anaconda3\\lib\\site-packages\\flask\\helpers.py\", line 333, in url_for\n",
      "    return appctx.app.handle_url_build_error(error, endpoint, values)\n",
      "  File \"C:\\Users\\xinro\\Anaconda3\\lib\\site-packages\\flask\\app.py\", line 1805, in handle_url_build_error\n",
      "    reraise(exc_type, exc_value, tb)\n",
      "  File \"C:\\Users\\xinro\\Anaconda3\\lib\\site-packages\\flask\\_compat.py\", line 33, in reraise\n",
      "    raise value\n",
      "  File \"C:\\Users\\xinro\\Anaconda3\\lib\\site-packages\\flask\\helpers.py\", line 323, in url_for\n",
      "    force_external=external)\n",
      "  File \"C:\\Users\\xinro\\Anaconda3\\lib\\site-packages\\werkzeug\\routing.py\", line 1768, in build\n",
      "    raise BuildError(endpoint, values, method, self)\n",
      "werkzeug.routing.BuildError: Could not build url for endpoint 'http://127.0.0.1:5000/#model1' with values ['plot_url']. Did you mean 'index' instead?\n",
      "127.0.0.1 - - [22/Apr/2018 23:47:46] \"POST / HTTP/1.1\" 500 -\n"
     ]
    }
   ],
   "source": [
    "from flask import Flask, render_template, flash, redirect, request, session, abort, url_for\n",
    "import model\n",
    "import io\n",
    "import matplotlib.pyplot as plt\n",
    "import base64\n",
    "# from vaderSentiment.vaderSentiment import SentimentIntensityAnalyzer\n",
    " \n",
    "# app = Flask(__name__)\n",
    "\n",
    "# @app.route(\"/\")\n",
    "# def index():\n",
    "#     return render_template(\"index.html\")\n",
    "\n",
    "# if __name__ == \"__main__\":\n",
    "#     app.run()\n",
    "with open(\"static/img/input.jpg\", \"rb\") as image_file:\n",
    "    encoded_string = base64.b64encode(image_file.read()).decode()   \n",
    "    \n",
    "app = Flask(__name__)\n",
    "@app.route(\"/\")\n",
    "def index():\n",
    "    return render_template('index.html',plot_url=encoded_string)\n",
    "\n",
    "@app.route('/', methods=['POST'])\n",
    "def make_prediction():\n",
    "    if request.method=='POST':file = request.form['text']\n",
    "    if not file: return render_template('index.html', label=\"No file\")\n",
    "    prediction = model.sentiment_analysis(file)\n",
    "    img = io.BytesIO()\n",
    "    plt.clf()\n",
    "    plt.bar(range(len(prediction)), list(prediction.values()), align='center',\n",
    "            color=[\"#56B4E9\",'#d9d9d9','#ff8080','#00b3b3'])\n",
    "    plt.xticks(range(len(prediction)), list(prediction.keys()))\n",
    "    plt.savefig(img, format='png')\n",
    "    img.seek(0)\n",
    "    plot_url = base64.b64encode(img.getvalue()).decode()\n",
    "    #render_template('index.html', plot_url=plot_url)\n",
    "    return redirect(url_for(\"index\",plot_url=plot_url),code=302)\n",
    "    \n",
    "\n",
    "\n",
    "if __name__ == '__main__':\n",
    "\t# load ml model\n",
    "\t#model = \n",
    "\t# start api\n",
    "\tapp.run()"
   ]
  },
  {
   "cell_type": "code",
   "execution_count": null,
   "metadata": {
    "collapsed": true
   },
   "outputs": [],
   "source": []
  }
 ],
 "metadata": {
  "kernelspec": {
   "display_name": "Python 3",
   "language": "python",
   "name": "python3"
  },
  "language_info": {
   "codemirror_mode": {
    "name": "ipython",
    "version": 3
   },
   "file_extension": ".py",
   "mimetype": "text/x-python",
   "name": "python",
   "nbconvert_exporter": "python",
   "pygments_lexer": "ipython3",
   "version": "3.6.3"
  }
 },
 "nbformat": 4,
 "nbformat_minor": 2
}
