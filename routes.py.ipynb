{
 "cells": [
  {
   "cell_type": "code",
   "execution_count": 16,
   "metadata": {},
   "outputs": [
    {
     "name": "stderr",
     "output_type": "stream",
     "text": [
      " * Running on http://127.0.0.1:5000/ (Press CTRL+C to quit)\n",
      "127.0.0.1 - - [24/Apr/2018 21:49:22] \"GET / HTTP/1.1\" 200 -\n"
     ]
    }
   ],
   "source": [
    "from flask import Flask, render_template, flash, redirect, request, session, abort, url_for\n",
    "import model\n",
    "import io\n",
    "import matplotlib.pyplot as plt\n",
    "import base64\n",
    "\n",
    "app = Flask(__name__)\n",
    "@app.route(\"/\")\n",
    "def index():\n",
    "    return render_template('index.html')\n",
    "\n",
    "with open(\"static/img/input.jpg\", \"rb\") as image_file:\n",
    "    encoded_string = base64.b64encode(image_file.read()).decode()\n",
    "\n",
    "@app.route(\"/input\")\n",
    "def sentiment():\n",
    "    return render_template('input.html',plot_url=encoded_string)\n",
    "\n",
    "@app.route('/input', methods=[ 'POST'])\n",
    "def make_prediction():\n",
    "    if request.method=='POST':file = request.form['text']\n",
    "    if not file: return render_template('input.html', label=\"No file\")\n",
    "    prediction = model.sentiment_analysis(file)\n",
    "    img = io.BytesIO()\n",
    "    plt.clf()\n",
    "    plt.bar(range(len(prediction)), list(prediction.values()), align='center',\n",
    "            color=[\"#56B4E9\",'#d9d9d9','#ff8080','#00b3b3'])\n",
    "    plt.xticks(range(len(prediction)), list(prediction.keys()))\n",
    "    plt.savefig(img, format='png')\n",
    "    img.seek(0)\n",
    "    plot_url = base64.b64encode(img.getvalue()).decode()\n",
    "    return render_template('input.html', plot_url=plot_url)\n",
    "\n",
    "if __name__ == '__main__':\n",
    "    app.run()"
   ]
  }
 ],
 "metadata": {
  "kernelspec": {
   "display_name": "Python 3",
   "language": "python",
   "name": "python3"
  },
  "language_info": {
   "codemirror_mode": {
    "name": "ipython",
    "version": 3
   },
   "file_extension": ".py",
   "mimetype": "text/x-python",
   "name": "python",
   "nbconvert_exporter": "python",
   "pygments_lexer": "ipython3",
   "version": "3.6.3"
  }
 },
 "nbformat": 4,
 "nbformat_minor": 2
}
